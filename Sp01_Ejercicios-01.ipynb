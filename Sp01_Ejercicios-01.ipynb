{
 "cells": [
  {
   "cell_type": "markdown",
   "metadata": {
    "ExecuteTime": {
     "end_time": "2020-04-23T19:03:50.156089Z",
     "start_time": "2020-04-23T19:03:50.153115Z"
    }
   },
   "source": [
    "# SP01 EJERCICIO 01"
   ]
  },
  {
   "cell_type": "markdown",
   "metadata": {},
   "source": [
    "En una de las primeras clases hemos visto cómo calcular la distancia entre 2 vectores y también hemos visto un Sistema de Recomendaciones muy básico.\n",
    "Vamos a mejorarlo!.\n"
   ]
  },
  {
   "cell_type": "markdown",
   "metadata": {},
   "source": [
    "Este será un ejercicio que le puede demandar algo de  tiempo y lo hemos pensado para que también tenga que hacer uso de los elementos de programación que aprendió en Programación 1 (algún for, etc), quizá también deba repasarla!\n",
    "\n",
    "Puede resolverlo en Jupyter o en Spyder."
   ]
  },
  {
   "cell_type": "markdown",
   "metadata": {},
   "source": [
    "Nuestro objetivo es crear una función que sirva como Sistema de Recomendación pero más sofisticada que el de la primer clase, en este caso queremos pronosticar cómo calificaría un usuario, llamémoslo q (usé q por 'query') a una película que no vio.  \n",
    "\n",
    "\n",
    "Para ello contaremos con las calificaciones que otros 10 usuarios dieron a 4 películas, nuestro usuario q sólo vio 3 de ellas y sabemos cómo las calificó, y queremos pronosticar cómo calificaría q a la que no vio.  \n",
    "\n",
    "> Nuestro criterio será que el usuario q calificará a la cuarta película con el **promedio** de las calificaciones que le dieron los **3** usuarios **más parecidos o más cercanos a él**.\n",
    "\n",
    "Los datos sobre las calificaciones dadas a las 4 películas por los 10 usuarios se encuentran en una matriz de 10x4 (10 filas y 4 columnas), donde cada fila corresponde a las calificaciones dadas a las 4 películas por cada uno de los usuarios (cada columna es una película).\n",
    "\n",
    "Nuestro usuario q vio las películas de las 3 primeras columnas y le falta ver la película de la cuarta columna y queremos pronosticar su calificación. Las califaciones de q no están en la matriz, sino que se las daré aparte.  \n",
    "\n",
    "Consideraremos las calificaciones de las 3 primeras películas de cada fila como un vector de tres componentes que representa a cada usuario.  \n",
    "\n",
    "Las calificaciones que dio q a las 3 primeras películas son: [6,2,7].\n",
    "\n",
    "\n",
    "Consideraremos que un usuario es más o menos *parecido* a q calculando la distancia entre su vector de tres componentes y el vector de q [6,2,7]. Así, **cuanto menor sea la distancia, más parecido será otro usuario a q**. \n",
    "\n",
    "\n",
    "Su tarea es descubrir los 3 usuarios más cercanos a q (considerando las 3 primeras películas) y luego calcular el promedio de sus calificaciones de la 4ta película para asignársela como pronóstico a q. \n",
    "\n",
    "De ser posible, le pido que cree una **función con Python** que resuelva el problema para cualquier otro usuario q que se nos ocurra, es decir le ingresemos cualquier otro vector de calificaciones para un nnuevo q y nos devuelve el pronóstico de su calificación para la cuarta película.\n",
    "\n",
    "Las calificaciones de las películas están guardadas como un array (de 2 dimensiones, una matriz), en el archvivo *calificaciones_pelis.npy* que le adjunté."
   ]
  },
  {
   "cell_type": "code",
   "execution_count": null,
   "metadata": {},
   "outputs": [],
   "source": []
  }
 ],
 "metadata": {
  "hide_input": false,
  "kernelspec": {
   "display_name": "Python 3",
   "language": "python",
   "name": "python3"
  },
  "language_info": {
   "codemirror_mode": {
    "name": "ipython",
    "version": 3
   },
   "file_extension": ".py",
   "mimetype": "text/x-python",
   "name": "python",
   "nbconvert_exporter": "python",
   "pygments_lexer": "ipython3",
   "version": "3.7.3"
  },
  "toc": {
   "base_numbering": 1,
   "nav_menu": {},
   "number_sections": true,
   "sideBar": true,
   "skip_h1_title": true,
   "title_cell": "Tabla de Contenidos",
   "title_sidebar": "Contenidos",
   "toc_cell": false,
   "toc_position": {
    "height": "calc(100% - 180px)",
    "left": "10px",
    "top": "150px",
    "width": "165px"
   },
   "toc_section_display": true,
   "toc_window_display": true
  }
 },
 "nbformat": 4,
 "nbformat_minor": 2
}
